{
  "cells": [
    {
      "metadata": {},
      "cell_type": "markdown",
      "source": "<div dir=rtl  style=\"font-family:'Noto Kufi Arabic';color:green\">\n##  آموزش پردازش زبان طبیعی با پایتون  با استفاده از کتابخانه معروف Spacy\n"
    },
    {
      "metadata": {
        "trusted": true
      },
      "cell_type": "code",
      "source": "%%html\n<style>\n@import url(//fonts.googleapis.com/earlyaccess/notokufiarabic.css); \n@import url(//fonts.googleapis.com/earlyaccess/notonaskharabic.css); \n</style>",
      "execution_count": 4,
      "outputs": [
        {
          "output_type": "display_data",
          "data": {
            "text/html": "<style>\n@import url(//fonts.googleapis.com/earlyaccess/notokufiarabic.css); \n@import url(//fonts.googleapis.com/earlyaccess/notonaskharabic.css); \n</style>\n",
            "text/plain": "<IPython.core.display.HTML object>"
          },
          "metadata": {}
        }
      ]
    },
    {
      "metadata": {},
      "cell_type": "markdown",
      "source": "<div dir=rtl  style=\"font-family:'Noto Naskh Arabic';font-size:1.1em;color:blue;font-weight:bold\">\nگام صفر : نصب کتابخانه Spacy\n</div>"
    },
    {
      "metadata": {
        "trusted": true
      },
      "cell_type": "code",
      "source": "!pip install spacy",
      "execution_count": 1,
      "outputs": [
        {
          "output_type": "stream",
          "text": "Collecting spacy\n\u001b[?25l  Downloading https://files.pythonhosted.org/packages/52/da/3a1c54694c2d2f40df82f38a19ae14c6eb24a5a1a0dae87205ebea7a84d8/spacy-2.1.3-cp36-cp36m-manylinux1_x86_64.whl (27.7MB)\n\u001b[K    100% |████████████████████████████████| 27.7MB 35kB/s eta 0:00:011   32% |██████████▎                     | 8.9MB 9.4MB/s eta 0:00:03    97% |███████████████████████████████ | 26.9MB 8.3MB/s eta 0:00:01\n\u001b[?25hRequirement already satisfied: jsonschema<3.0.0,>=2.6.0 in /home/nbuser/anaconda3_501/lib/python3.6/site-packages (from spacy) (2.6.0)\nCollecting preshed<2.1.0,>=2.0.1 (from spacy)\n\u001b[?25l  Downloading https://files.pythonhosted.org/packages/20/93/f222fb957764a283203525ef20e62008675fd0a14ffff8cc1b1490147c63/preshed-2.0.1-cp36-cp36m-manylinux1_x86_64.whl (83kB)\n\u001b[K    100% |████████████████████████████████| 92kB 20.7MB/s ta 0:00:01\n\u001b[?25hCollecting murmurhash<1.1.0,>=0.28.0 (from spacy)\n  Downloading https://files.pythonhosted.org/packages/a6/e6/63f160a4fdf0e875d16b28f972083606d8d54f56cd30cb8929f9a1ee700e/murmurhash-1.0.2-cp36-cp36m-manylinux1_x86_64.whl\nCollecting numpy>=1.15.0 (from spacy)\n\u001b[?25l  Downloading https://files.pythonhosted.org/packages/c1/e2/4db8df8f6cddc98e7d7c537245ef2f4e41a1ed17bf0c3177ab3cc6beac7f/numpy-1.16.3-cp36-cp36m-manylinux1_x86_64.whl (17.3MB)\n\u001b[K    100% |████████████████████████████████| 17.3MB 53kB/s  eta 0:00:01\n\u001b[?25hCollecting srsly<1.1.0,>=0.0.5 (from spacy)\n\u001b[?25l  Downloading https://files.pythonhosted.org/packages/6b/97/47753e3393aa4b18de9f942fac26f18879d1ae950243a556888f389d1398/srsly-0.0.5-cp36-cp36m-manylinux1_x86_64.whl (180kB)\n\u001b[K    100% |████████████████████████████████| 184kB 14.5MB/s ta 0:00:01\n\u001b[?25hCollecting thinc<7.1.0,>=7.0.2 (from spacy)\n\u001b[?25l  Downloading https://files.pythonhosted.org/packages/a9/f1/3df317939a07b2fc81be1a92ac10bf836a1d87b4016346b25f8b63dee321/thinc-7.0.4-cp36-cp36m-manylinux1_x86_64.whl (2.1MB)\n\u001b[K    100% |████████████████████████████████| 2.1MB 14.6MB/s ta 0:00:01\n\u001b[?25hCollecting wasabi<1.1.0,>=0.2.0 (from spacy)\n  Downloading https://files.pythonhosted.org/packages/76/6c/0376977df1ba9f0ec27835d80456d9284c79737cb5205649451db1181f01/wasabi-0.2.1-py3-none-any.whl\nCollecting plac<1.0.0,>=0.9.6 (from spacy)\n  Downloading https://files.pythonhosted.org/packages/9e/9b/62c60d2f5bc135d2aa1d8c8a86aaf84edb719a59c7f11a4316259e61a298/plac-0.9.6-py2.py3-none-any.whl\nCollecting cymem<2.1.0,>=2.0.2 (from spacy)\n  Downloading https://files.pythonhosted.org/packages/3d/61/9b0520c28eb199a4b1ca667d96dd625bba003c14c75230195f9691975f85/cymem-2.0.2-cp36-cp36m-manylinux1_x86_64.whl\nCollecting blis<0.3.0,>=0.2.2 (from spacy)\n\u001b[?25l  Downloading https://files.pythonhosted.org/packages/34/46/b1d0bb71d308e820ed30316c5f0a017cb5ef5f4324bcbc7da3cf9d3b075c/blis-0.2.4-cp36-cp36m-manylinux1_x86_64.whl (3.2MB)\n\u001b[K    100% |████████████████████████████████| 3.2MB 825kB/s eta 0:00:01\n\u001b[?25hRequirement already satisfied: requests<3.0.0,>=2.13.0 in /home/nbuser/anaconda3_501/lib/python3.6/site-packages (from spacy) (2.21.0)\nRequirement already satisfied: tqdm<5.0.0,>=4.10.0 in /home/nbuser/anaconda3_501/lib/python3.6/site-packages (from thinc<7.1.0,>=7.0.2->spacy) (4.26.0)\nRequirement already satisfied: urllib3<1.25,>=1.21.1 in /home/nbuser/anaconda3_501/lib/python3.6/site-packages (from requests<3.0.0,>=2.13.0->spacy) (1.23)\nRequirement already satisfied: idna<2.9,>=2.5 in /home/nbuser/anaconda3_501/lib/python3.6/site-packages (from requests<3.0.0,>=2.13.0->spacy) (2.7)\nRequirement already satisfied: chardet<3.1.0,>=3.0.2 in /home/nbuser/anaconda3_501/lib/python3.6/site-packages (from requests<3.0.0,>=2.13.0->spacy) (3.0.4)\nRequirement already satisfied: certifi>=2017.4.17 in /home/nbuser/anaconda3_501/lib/python3.6/site-packages (from requests<3.0.0,>=2.13.0->spacy) (2018.10.15)\n\u001b[31mscikit-bio 0.5.4 has requirement numpy<1.14.0,>=1.9.2, but you'll have numpy 1.16.3 which is incompatible.\u001b[0m\n\u001b[31mkeras 2.2.2 has requirement keras_applications==1.0.4, but you'll have keras-applications 1.0.7 which is incompatible.\u001b[0m\n\u001b[31mkeras 2.2.2 has requirement keras_preprocessing==1.0.2, but you'll have keras-preprocessing 1.0.9 which is incompatible.\u001b[0m\n\u001b[31mazureml-train-automl 1.0.17.1 has requirement numpy<1.15.0,>=1.11.0, but you'll have numpy 1.16.3 which is incompatible.\u001b[0m\nInstalling collected packages: cymem, preshed, murmurhash, numpy, srsly, blis, plac, wasabi, thinc, spacy\n  Found existing installation: numpy 1.14.6\n    Uninstalling numpy-1.14.6:\n      Successfully uninstalled numpy-1.14.6\nSuccessfully installed blis-0.2.4 cymem-2.0.2 murmurhash-1.0.2 numpy-1.16.3 plac-0.9.6 preshed-2.0.1 spacy-2.1.3 srsly-0.0.5 thinc-7.0.4 wasabi-0.2.1\n\u001b[33mYou are using pip version 19.0.3, however version 19.1 is available.\nYou should consider upgrading via the 'pip install --upgrade pip' command.\u001b[0m\n",
          "name": "stdout"
        }
      ]
    },
    {
      "metadata": {},
      "cell_type": "markdown",
      "source": "<div dir=rtl  style=\"font-family:'Noto Naskh Arabic';font-size:1.1em;color:blue;font-weight:bold\">\nگام اول : ایجاد یک شی از کلاس متناظر با زبان مورد نظر \n</div>"
    },
    {
      "metadata": {
        "trusted": true
      },
      "cell_type": "code",
      "source": "# Import the English language class\nfrom spacy.lang.fa import Persian\n\n# Create the nlp object\nnlp = Persian()",
      "execution_count": 7,
      "outputs": []
    },
    {
      "metadata": {},
      "cell_type": "markdown",
      "source": "<div dir=rtl  style=\"font-family:'Noto Naskh Arabic';font-size:1.1em;color:blue;font-weight:bold\">\n  گام دوم : ایجاد یک شی از نوع سند با ارسال متن به کلاس ایجاد شده مرحله قبل و دریافت توکن‌ها\n</div>"
    },
    {
      "metadata": {
        "trusted": true
      },
      "cell_type": "code",
      "source": "# Created by processing a string of text with the nlp object\ndoc = nlp(\"شروع کار پردازش زبان طبیعی با پایتون با کتابخانه Spacy\")\n\n# Iterate over tokens in a Doc\nfor token in doc:\n    print(token.text)",
      "execution_count": 11,
      "outputs": [
        {
          "output_type": "stream",
          "text": "شروع\nکار\nپردازش\nزبان\nطبیعی\nبا\nپایتون\nبا\nکتابخانه\nSpacy\n",
          "name": "stdout"
        }
      ]
    },
    {
      "metadata": {},
      "cell_type": "markdown",
      "source": "<div dir=rtl  style=\"font-family:'Noto Naskh Arabic';font-size:1.1em;color:blue;font-weight:bold\">\nهر سند از چندین توکن و گاهی هزاران عدد، تشکیل شده است.\n</div>\n<img src=\"https://course.spacy.io/doc.png\">"
    },
    {
      "metadata": {},
      "cell_type": "markdown",
      "source": "<div dir=rtl  style=\"font-family:'Noto Naskh Arabic';font-size:1.1em;color:blue;font-weight:bold\">\nمی‌توانیم با ایندکس ها هم به هر توکن در سند دسترسی داشته باشیم.</div>"
    },
    {
      "metadata": {
        "trusted": true
      },
      "cell_type": "code",
      "source": "\n# Index into the Doc to get a single Token\ntoken = doc[1]\n\n# Get the token text via the .text attribute\nprint(token.text)",
      "execution_count": 12,
      "outputs": [
        {
          "output_type": "stream",
          "text": "کار\n",
          "name": "stdout"
        }
      ]
    },
    {
      "metadata": {},
      "cell_type": "markdown",
      "source": "<div dir=rtl  style=\"font-family:'Noto Naskh Arabic';font-size:1.1em;color:blue;font-weight:bold\">\nبه هر قطعه از متن که حاوی چندین توکن است و به کمک دستورات اندیس دهی زیرلیست در پایتون ایجاد می‌شود، یک اسپن  یا گستره می‌گوییم</div>\n<img src=\"https://course.spacy.io/doc_span.png\">"
    },
    {
      "metadata": {
        "trusted": true
      },
      "cell_type": "code",
      "source": "# A slice from the Doc is a Span object\nspan = doc[1:4]\n\n# Get the span text via the .text attribute\nprint(span.text)",
      "execution_count": 13,
      "outputs": [
        {
          "output_type": "stream",
          "text": "کار پردازش زبان\n",
          "name": "stdout"
        }
      ]
    },
    {
      "metadata": {},
      "cell_type": "markdown",
      "source": "<div dir=rtl  style=\"font-family:'Noto Naskh Arabic';font-size:1.1em;color:blue;font-weight:bold\">\nخصوصیات واژگان\n<br/>\nهر توکن خصوصیات مختلف دارد مانند اندیس, متن و توابع مختلفی هر بر روی آن قابل فراخوانی است. \nبرخی از این توابع را در زیر مشاهده می کنید. \n</div>\n"
    },
    {
      "metadata": {
        "trusted": true
      },
      "cell_type": "code",
      "source": "doc = nlp(\"۵۰۰ ریال به من داد اما من آنرا قبول نکردم!\")\n\nprint('Index:   ', [token.i for token in doc])\nprint('Text:    ', [token.text for token in doc])\n\nprint('is_alpha:', [token.is_alpha for token in doc])\nprint('is_punct:', [token.is_punct for token in doc])\nprint('like_num:', [token.like_num for token in doc])",
      "execution_count": 17,
      "outputs": [
        {
          "output_type": "stream",
          "text": "Index:    [0, 1, 2, 3, 4, 5, 6, 7, 8, 9, 10]\nText:     ['۵۰۰', 'ریال', 'به', 'من', 'داد', 'اما', 'من', 'آنرا', 'قبول', 'نکردم', '!']\nis_alpha: [False, True, True, True, True, True, True, True, True, True, False]\nis_punct: [False, False, False, False, False, False, False, False, False, False, True]\nlike_num: [True, False, False, False, False, False, False, False, False, False, False]\n",
          "name": "stdout"
        }
      ]
    },
    {
      "metadata": {
        "trusted": true
      },
      "cell_type": "code",
      "source": "",
      "execution_count": null,
      "outputs": []
    }
  ],
  "metadata": {
    "kernelspec": {
      "name": "python36",
      "display_name": "Python 3.6",
      "language": "python"
    },
    "language_info": {
      "mimetype": "text/x-python",
      "nbconvert_exporter": "python",
      "name": "python",
      "pygments_lexer": "ipython3",
      "version": "3.6.6",
      "file_extension": ".py",
      "codemirror_mode": {
        "version": 3,
        "name": "ipython"
      }
    }
  },
  "nbformat": 4,
  "nbformat_minor": 2
}